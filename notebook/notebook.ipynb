{
 "cells": [
  {
   "cell_type": "code",
   "execution_count": null,
   "id": "0f45ff14",
   "metadata": {},
   "outputs": [],
   "source": [
    "import os\n",
    "\n",
    "import pandas as pd\n",
    "import numpy as np\n",
    "import matplotlib.pyplot as plt\n",
    "\n",
    "import tensorflow as tf\n",
    "from tensorflow.keras import layers\n",
    "from tensorflow.keras.models import Model\n",
    "from tensorflow.keras.optimizers import Adam\n",
    "from tensorflow.keras.regularizers import l2\n",
    "from tensorflow.keras.layers import Activation,BatchNormalization,Input,Embedding,Dot,Dense,Flatten,Dropout,Concatenate\n",
    "from tensorflow.keras.callbacks import ModelCheckpoint,LearningRateScheduler,TensorBoard,EarlyStopping\n",
    "from utils.common_functions import read_yaml\n",
    "\n",
    "\n",
    "from wordcloud import WordCloud\n",
    "%matplotlib inline"
   ]
  },
  {
   "cell_type": "markdown",
   "id": "eb6c958d",
   "metadata": {},
   "source": [
    "### Reading ANIMELIST.CSV"
   ]
  },
  {
   "cell_type": "code",
   "execution_count": null,
   "id": "4aee3cb9",
   "metadata": {},
   "outputs": [],
   "source": [
    "INPUT_DIR = os.path.join(\"..\",\"artifacts\",\"raw\")"
   ]
  },
  {
   "cell_type": "code",
   "execution_count": null,
   "id": "c311b346",
   "metadata": {},
   "outputs": [],
   "source": [
    "rating_df = pd.read_csv(INPUT_DIR+'/animelist_filtered.csv',low_memory=True,usecols=['user_id','anime_id','rating'])"
   ]
  },
  {
   "cell_type": "code",
   "execution_count": null,
   "id": "a97dad7e",
   "metadata": {},
   "outputs": [],
   "source": [
    "len(rating_df)"
   ]
  },
  {
   "cell_type": "markdown",
   "id": "2cea4364",
   "metadata": {},
   "source": [
    "### Data Processing"
   ]
  },
  {
   "cell_type": "code",
   "execution_count": null,
   "id": "e4a0bb75",
   "metadata": {},
   "outputs": [],
   "source": [
    "min_rating = np.min(rating_df['rating'])-1\n",
    "max_rating = np.max(rating_df['rating'])\n",
    "avg_rating = np.mean(rating_df['rating'])"
   ]
  },
  {
   "cell_type": "code",
   "execution_count": null,
   "id": "9249b426",
   "metadata": {},
   "outputs": [],
   "source": [
    "avg_rating"
   ]
  },
  {
   "cell_type": "code",
   "execution_count": null,
   "id": "a64cce65",
   "metadata": {},
   "outputs": [],
   "source": [
    "rating_df['rating']= rating_df['rating'].apply(lambda x:(x-min_rating)/(max_rating-min_rating)).values.astype('float64')"
   ]
  },
  {
   "cell_type": "code",
   "execution_count": null,
   "id": "1da43fe7",
   "metadata": {},
   "outputs": [],
   "source": [
    "user_id = rating_df['user_id'].unique().tolist()\n",
    "user2user_encoder = {x: i for i,x in enumerate(user_id)}\n",
    "user2user_decoder = {i: x for i,x in enumerate(user_id)}\n",
    "rating_df['user'] = rating_df['user_id'].map(user2user_encoder)"
   ]
  },
  {
   "cell_type": "code",
   "execution_count": null,
   "id": "dbbc20a4",
   "metadata": {},
   "outputs": [],
   "source": [
    "n_users = len(user2user_encoder)"
   ]
  },
  {
   "cell_type": "markdown",
   "id": "9d696cb7",
   "metadata": {},
   "source": [
    "### 16000 users!\n",
    "user2user_encoder { 12321 : 83}\n",
    "user2user_decoder { 83 : 12321}"
   ]
  },
  {
   "cell_type": "code",
   "execution_count": null,
   "id": "dca76ab9",
   "metadata": {},
   "outputs": [],
   "source": [
    "len(user2user_encoder)"
   ]
  },
  {
   "cell_type": "code",
   "execution_count": null,
   "id": "f992ab4e",
   "metadata": {},
   "outputs": [],
   "source": [
    "anime_id = rating_df['anime_id'].unique().tolist()\n",
    "anime2anime_encoder = {x: i for i,x in enumerate(anime_id)}\n",
    "anime2anime_decoder = {i: x for i,x in enumerate(anime_id)}\n",
    "rating_df['anime'] = rating_df['anime_id'].map(anime2anime_encoder)"
   ]
  },
  {
   "cell_type": "code",
   "execution_count": null,
   "id": "9915d644",
   "metadata": {},
   "outputs": [],
   "source": [
    "n_animes = len(anime2anime_encoder)"
   ]
  },
  {
   "cell_type": "code",
   "execution_count": null,
   "id": "b94b785b",
   "metadata": {},
   "outputs": [],
   "source": [
    "n_animes"
   ]
  },
  {
   "cell_type": "code",
   "execution_count": null,
   "id": "09d1e9b3",
   "metadata": {},
   "outputs": [],
   "source": [
    "n_users"
   ]
  },
  {
   "cell_type": "code",
   "execution_count": null,
   "id": "28d866ea",
   "metadata": {},
   "outputs": [],
   "source": [
    "len(anime2anime_encoder)"
   ]
  },
  {
   "cell_type": "code",
   "execution_count": null,
   "id": "47729e58",
   "metadata": {},
   "outputs": [],
   "source": [
    "rating_df"
   ]
  },
  {
   "cell_type": "code",
   "execution_count": null,
   "id": "4cd7db45",
   "metadata": {},
   "outputs": [],
   "source": [
    "rating_df = rating_df.sample(frac=1,random_state=43).reset_index(drop=True)"
   ]
  },
  {
   "cell_type": "code",
   "execution_count": null,
   "id": "de4169d4",
   "metadata": {},
   "outputs": [],
   "source": [
    "X = rating_df[['user','anime']].values\n",
    "y = rating_df['rating']"
   ]
  },
  {
   "cell_type": "code",
   "execution_count": null,
   "id": "3c4ba89d",
   "metadata": {},
   "outputs": [],
   "source": [
    "test_size = 100000\n",
    "train_indices = rating_df.shape[0] - test_size"
   ]
  },
  {
   "cell_type": "code",
   "execution_count": null,
   "id": "c252b768",
   "metadata": {},
   "outputs": [],
   "source": [
    "X_train , X_test , y_train , y_test = (\n",
    "    X[:train_indices],\n",
    "    X[train_indices :],\n",
    "    y[:train_indices],\n",
    "    y[train_indices :]\n",
    ")"
   ]
  },
  {
   "cell_type": "code",
   "execution_count": null,
   "id": "659f930f",
   "metadata": {},
   "outputs": [],
   "source": [
    "X_test"
   ]
  },
  {
   "cell_type": "code",
   "execution_count": null,
   "id": "4cb3fb7d",
   "metadata": {},
   "outputs": [],
   "source": [
    "X_train_array = [X_train[:,0],X_train[:,1]]\n",
    "X_test_array = [X_test[:,0],X_test[:,1]]"
   ]
  },
  {
   "cell_type": "markdown",
   "id": "d546106a",
   "metadata": {},
   "source": [
    "### MODEL ARTITECTURE"
   ]
  },
  {
   "cell_type": "code",
   "execution_count": null,
   "id": "aa19923d",
   "metadata": {},
   "outputs": [],
   "source": [
    "def RecommenderNet(n_users, n_animes, embedding_size=32):\n",
    "    user = Input(name='user', shape=[1])\n",
    "    anime = Input(name='anime', shape=[1])\n",
    "\n",
    "    user_embedding = Embedding(\n",
    "        input_dim=n_users,\n",
    "        output_dim=embedding_size,\n",
    "        embeddings_regularizer=l2(1e-6),\n",
    "        name='user_embedding'\n",
    "    )(user)\n",
    "\n",
    "    anime_embedding = Embedding(\n",
    "        input_dim=n_animes,\n",
    "        output_dim=embedding_size,\n",
    "        embeddings_regularizer=l2(1e-6),\n",
    "        name='anime_embedding'\n",
    "    )(anime)\n",
    "\n",
    "    user_vec = Flatten(name='flatten')(user_embedding)\n",
    "    anime_vec = Flatten(name='flatten_1')(anime_embedding)\n",
    "\n",
    "    x = Concatenate(name='concatenate')([user_vec, anime_vec])\n",
    "\n",
    "    x = Dense(128, kernel_initializer='he_normal', name='dense')(x)\n",
    "    x = BatchNormalization(name='batch_normalization')(x)\n",
    "    x = Activation('relu')(x)\n",
    "    x = Dropout(0.3)(x)\n",
    "\n",
    "    x = Dense(64, kernel_initializer='he_normal', name='dense_1')(x)\n",
    "    x = BatchNormalization(name='batch_normalization_1')(x)\n",
    "    x = Activation('relu')(x)\n",
    "    x = Dropout(0.3)(x)\n",
    "\n",
    "    x = Dense(1, activation='sigmoid', name='dense_2')(x)\n",
    "\n",
    "    model = Model(inputs=[user, anime], outputs=x)\n",
    "    model.compile(\n",
    "        loss='binary_crossentropy',\n",
    "        optimizer=Adam(learning_rate=1e-3),\n",
    "        metrics=['mae', 'mse']\n",
    "    )\n",
    "    \n",
    "    return model"
   ]
  },
  {
   "cell_type": "code",
   "execution_count": null,
   "id": "dcdde4cf",
   "metadata": {},
   "outputs": [],
   "source": [
    "# === Training hyperparams ===\n",
    "batch_size = 512\n",
    "learning_rate = 1e-3   # constant Adam LR"
   ]
  },
  {
   "cell_type": "code",
   "execution_count": null,
   "id": "f060c92a",
   "metadata": {},
   "outputs": [],
   "source": [
    "\n",
    "# === Build and compile model ===\n",
    "recomm_model = RecommenderNet(n_users, n_animes)\n",
    "recomm_model.compile(\n",
    "    loss=\"binary_crossentropy\",\n",
    "    optimizer=Adam(learning_rate=learning_rate),\n",
    "    metrics=[\"mae\", \"mse\"]\n",
    ")\n"
   ]
  },
  {
   "cell_type": "code",
   "execution_count": null,
   "id": "f96cb80c",
   "metadata": {},
   "outputs": [],
   "source": [
    "# === Checkpoint: save full model (.keras) ===\n",
    "checkpoint_filepath = 'best_recommender_model.weights.h5'\n",
    "model_checkpoint = ModelCheckpoint(\n",
    "    filepath=checkpoint_filepath,\n",
    "    save_weights_only=True,\n",
    "    monitor='val_loss',\n",
    "    mode='min',\n",
    "    save_best_only=True,\n",
    "    verbose=1\n",
    ")"
   ]
  },
  {
   "cell_type": "code",
   "execution_count": null,
   "id": "bb25c792",
   "metadata": {},
   "outputs": [],
   "source": [
    "# === Early stopping ===\n",
    "early_stopping = EarlyStopping(\n",
    "    patience=3,\n",
    "    monitor='val_loss',\n",
    "    mode='min',\n",
    "    restore_best_weights=True\n",
    ")"
   ]
  },
  {
   "cell_type": "code",
   "execution_count": null,
   "id": "a07db1d0",
   "metadata": {},
   "outputs": [],
   "source": [
    "# === Load Model ===\n",
    "history = recomm_model.load_weights(checkpoint_filepath)"
   ]
  },
  {
   "cell_type": "code",
   "execution_count": null,
   "id": "4ece6782",
   "metadata": {},
   "outputs": [],
   "source": [
    "print(len(X_train_array[0]))"
   ]
  },
  {
   "cell_type": "code",
   "execution_count": null,
   "id": "3aa076f1",
   "metadata": {},
   "outputs": [],
   "source": [
    "# === Train ===\n",
    "\n",
    "# recomm_model.fit(\n",
    "#     x=X_train_array,\n",
    "#     y=y_train,\n",
    "#     batch_size=batch_size,\n",
    "#     epochs=40,\n",
    "#     validation_data=(X_test_array, y_test),\n",
    "#     callbacks=[model_checkpoint, early_stopping]\n",
    "# )"
   ]
  },
  {
   "cell_type": "code",
   "execution_count": null,
   "id": "2dbc7ad3",
   "metadata": {},
   "outputs": [],
   "source": [
    "# metrics = [\"loss\", \"mae\", \"mse\"]\n",
    "# fig, axes = plt.subplots(len(metrics), 1, figsize=(8, len(metrics) * 4))\n",
    "\n",
    "# for i, metric in enumerate(metrics):\n",
    "#     ax = axes[i]\n",
    "#     ax.plot(recomm_model.history.history[metric][0:-2], marker=\"o\", label=f\"train {metric}\")\n",
    "#     ax.plot(recomm_model.history.history[f\"val_{metric}\"][0:-2], marker=\"o\", label=f\"test {metric}\")\n",
    "#     ax.set_title(f\"Model {metric.capitalize()}\")\n",
    "#     ax.set_ylabel(metric.capitalize())\n",
    "#     ax.set_xlabel(\"Epoch\")\n",
    "#     ax.legend(loc=\"upper left\")\n",
    "#     ax.grid(True)\n",
    "\n",
    "# plt.tight_layout()\n",
    "# plt.show()"
   ]
  },
  {
   "cell_type": "code",
   "execution_count": null,
   "id": "674f8622",
   "metadata": {},
   "outputs": [],
   "source": [
    "def extract_weights(name,model):\n",
    "    weight_layer = model.get_layer(name)\n",
    "    weights = weight_layer.get_weights()[0]\n",
    "    weights = weights/np.linalg.norm(weights,axis=1).reshape((-1,1))\n",
    "    return weights"
   ]
  },
  {
   "cell_type": "code",
   "execution_count": null,
   "id": "d802a3bf",
   "metadata": {},
   "outputs": [],
   "source": [
    "anime_weights = extract_weights('anime_embedding',recomm_model)\n",
    "user_weights = extract_weights('user_embedding',recomm_model)\n"
   ]
  },
  {
   "cell_type": "markdown",
   "id": "9feb39aa",
   "metadata": {},
   "source": [
    "### READING ANIME.CSV"
   ]
  },
  {
   "cell_type": "code",
   "execution_count": null,
   "id": "4c9b4e2f",
   "metadata": {},
   "outputs": [],
   "source": [
    "df = pd.read_csv(INPUT_DIR+'/anime.csv',low_memory=True)\n",
    "df = df.replace(\"Unknown\",np.nan)\n"
   ]
  },
  {
   "cell_type": "code",
   "execution_count": null,
   "id": "e1fc9cfe",
   "metadata": {},
   "outputs": [],
   "source": [
    "def getAnimeName(anime_id):\n",
    "    try:\n",
    "        name = df[df.anime_id == anime_id].anime_name.values[0]\n",
    "        if name is np.nan:\n",
    "            name = df[df.anime_id == anime_id].Name.values[0]\n",
    "    except:\n",
    "        print(\"Error\")\n",
    "    return name"
   ]
  },
  {
   "cell_type": "code",
   "execution_count": null,
   "id": "a167c5e2",
   "metadata": {},
   "outputs": [],
   "source": [
    "df['anime_id']=df['MAL_ID']\n",
    "df['anime_name']=df['English name']\n",
    "df['score']=df['Score']\n",
    "df['genres']=df['Genres']\n",
    "df['episodes']=df['Episodes']\n",
    "df['type']=df['Type']\n",
    "df['premiered']=df['Premiered']\n",
    "df['members']=df['Members']\n",
    "df['anime_name'] = df.anime_id.apply(lambda x :getAnimeName(x))"
   ]
  },
  {
   "cell_type": "code",
   "execution_count": null,
   "id": "b47058f2",
   "metadata": {},
   "outputs": [],
   "source": [
    "df.sort_values(by=['Score'],inplace=True,ascending=False,na_position='last')"
   ]
  },
  {
   "cell_type": "code",
   "execution_count": null,
   "id": "0ca47879",
   "metadata": {},
   "outputs": [],
   "source": [
    "df = df[['anime_id','anime_name','score','genres','episodes','type','premiered','members']]\n",
    "\n",
    "df.head()"
   ]
  },
  {
   "cell_type": "code",
   "execution_count": null,
   "id": "45809f68",
   "metadata": {},
   "outputs": [],
   "source": [
    "def getAnimeFrame(anime,df):\n",
    "    if isinstance(anime,int):return df[df.anime_id == anime]\n",
    "    if isinstance(anime,str):return df[df.anime_name == anime]"
   ]
  },
  {
   "cell_type": "code",
   "execution_count": null,
   "id": "e5283420",
   "metadata": {},
   "outputs": [],
   "source": [
    "getAnimeFrame('Attack on Titan Final Season',df)"
   ]
  },
  {
   "cell_type": "markdown",
   "id": "33fc7331",
   "metadata": {},
   "source": [
    "### READING ANIMESYNOPSIS.CSV"
   ]
  },
  {
   "cell_type": "code",
   "execution_count": null,
   "id": "d48566ea",
   "metadata": {},
   "outputs": [],
   "source": [
    "cols = ['MAL_ID','Name','Genres','sypnopsis']\n",
    "syn_df = pd.read_csv(INPUT_DIR+\"/anime_with_synopsis.csv\")\n",
    "syn_df['anime_id']=syn_df['MAL_ID']\n",
    "syn_df['anime_name']=syn_df['Name']\n",
    "syn_df['syn']=syn_df['sypnopsis']\n",
    "syn_df['genres']=syn_df['Genres']\n",
    "syn_df = syn_df[['anime_id','anime_name','genres','syn']]"
   ]
  },
  {
   "cell_type": "code",
   "execution_count": null,
   "id": "4c708428",
   "metadata": {},
   "outputs": [],
   "source": [
    "syn_df.head(2)"
   ]
  },
  {
   "cell_type": "code",
   "execution_count": null,
   "id": "3834037a",
   "metadata": {},
   "outputs": [],
   "source": [
    "def getAnimeSyn(anime,df):\n",
    "    if isinstance(anime,int):return df[df.anime_id == anime].syn.values[0]\n",
    "    if isinstance(anime,str):return df[df.anime_name == anime].syn.values[0]"
   ]
  },
  {
   "cell_type": "code",
   "execution_count": null,
   "id": "aca9738c",
   "metadata": {},
   "outputs": [],
   "source": [
    "getAnimeSyn('Steins;Gate',syn_df)"
   ]
  },
  {
   "cell_type": "code",
   "execution_count": null,
   "id": "314755c7",
   "metadata": {},
   "outputs": [],
   "source": [
    "def getAnimeName(df,anime_id):\n",
    "    name = df[df.anime_id == anime_id].anime_name.values[0]\n",
    "    if name is np.nan: name = df[df.anime_id == anime_id].Name.values[0]\n",
    "    return name"
   ]
  },
  {
   "cell_type": "code",
   "execution_count": null,
   "id": "3a5d89f5",
   "metadata": {},
   "outputs": [],
   "source": [
    "def load_anime_df(df,syn_df=None):\n",
    "        df.replace(\"Unknown\", np.nan).rename(\n",
    "                columns={\n",
    "                    \"MAL_ID\": \"anime_id\",\n",
    "                    \"English name\": \"anime_name\",\n",
    "                    \"Score\": \"score\",\n",
    "                    \"Genres\": \"genres\",\n",
    "                    \"Episodes\": \"episodes\",\n",
    "                    \"Type\": \"type\",\n",
    "                    \"Premiered\": \"premiered\",\n",
    "                    \"Members\": \"members\",\n",
    "                }\n",
    "            )\n",
    "        if syn_df is not None:\n",
    "            syn_df = syn_df.rename(\n",
    "                columns={\n",
    "                    \"MAL_ID\": \"anime_id\",\n",
    "                    \"Name\": \"anime_name\",\n",
    "                    \"Genres\": \"genres\",\n",
    "                    \"sypnopsis\": \"syn\"\n",
    "                }\n",
    "            )\n",
    "        return df.merge(syn_df[[\"anime_id\", \"syn\"]], on=\"anime_id\", how=\"left\")"
   ]
  },
  {
   "cell_type": "code",
   "execution_count": null,
   "id": "c457a177",
   "metadata": {},
   "outputs": [],
   "source": [
    "anime_df = load_anime_df(df,syn_df=syn_df)[['anime_id','anime_name','score','genres','episodes','type','premiered','members','syn']]\n",
    "anime_df.sort_values(by=['score'],inplace=True,ascending=False,na_position='last')"
   ]
  },
  {
   "cell_type": "code",
   "execution_count": null,
   "id": "f8052642",
   "metadata": {},
   "outputs": [],
   "source": [
    "anime_df"
   ]
  },
  {
   "cell_type": "code",
   "execution_count": null,
   "id": "ff470273",
   "metadata": {},
   "outputs": [],
   "source": [
    "anime_df"
   ]
  },
  {
   "cell_type": "markdown",
   "id": "09789861",
   "metadata": {},
   "source": [
    "### CONTENT BASED RECOMMENDATION"
   ]
  },
  {
   "cell_type": "code",
   "execution_count": null,
   "id": "f77686b5",
   "metadata": {},
   "outputs": [],
   "source": [
    "pd.set_option('max_colwidth',None)"
   ]
  },
  {
   "cell_type": "code",
   "execution_count": null,
   "id": "4f93c535",
   "metadata": {},
   "outputs": [],
   "source": [
    "df['genres'] = df['genres'].fillna('')\n",
    "df['genre_list'] = df['genres'].str.split(', ').apply(list)"
   ]
  },
  {
   "cell_type": "code",
   "execution_count": null,
   "id": "55c45b7e",
   "metadata": {},
   "outputs": [],
   "source": [
    "df.head(3)"
   ]
  },
  {
   "cell_type": "code",
   "execution_count": null,
   "id": "c23e84a5",
   "metadata": {},
   "outputs": [],
   "source": [
    "def find_similar_animes(name, anime_weights,\n",
    "                        anime2anime_encoder, anime2anime_decoder,\n",
    "                        df, syn_df, n=10, return_dist=False, negative=False, \n",
    "                        consider_genres=True, genre_weight=0.2):\n",
    "    \n",
    "    index = getAnimeFrame(name, df).anime_id.values[0]\n",
    "    encoded_index = anime2anime_encoder.get(index)\n",
    "    weights = anime_weights\n",
    "\n",
    "    query_vec = weights[encoded_index]\n",
    "    dists = np.dot(weights, query_vec) / (np.linalg.norm(weights, axis=1) * np.linalg.norm(query_vec) + 1e-9)\n",
    "\n",
    "    if consider_genres:\n",
    "        query_anime_frame = df[df['anime_id'] == index]\n",
    "        if query_anime_frame.empty:\n",
    "            query_genres = set()\n",
    "        else:\n",
    "            genre_list = query_anime_frame['genre_list'].values[0]\n",
    "            query_genres = set(genre_list) if genre_list and len(genre_list) > 0 else set()\n",
    "        \n",
    "        sorted_dists = np.argsort(dists) if negative else np.argsort(dists)[::-1]\n",
    "        top_candidates = sorted_dists[:min(200, len(sorted_dists))]\n",
    "        \n",
    "        final_scores = []\n",
    "        \n",
    "        for candidate_idx in top_candidates:\n",
    "            decoded_id = anime2anime_decoder.get(candidate_idx)\n",
    "            if decoded_id is None or decoded_id == index:\n",
    "                continue\n",
    "            \n",
    "            candidate_frame = df[df['anime_id'] == decoded_id]\n",
    "            if candidate_frame.empty:\n",
    "                continue\n",
    "                \n",
    "            genre_list = candidate_frame['genre_list'].values[0]\n",
    "            candidate_genres = set(genre_list) if genre_list and len(genre_list) > 0 else set()\n",
    "            \n",
    "            if len(candidate_genres) > 0 and len(query_genres) > 0:\n",
    "                matching_genres = len(query_genres.intersection(candidate_genres))\n",
    "                genre_overlap = matching_genres / len(candidate_genres)\n",
    "            else:\n",
    "                genre_overlap = 0\n",
    "            \n",
    "            cosine_score = dists[candidate_idx]\n",
    "            final_score = cosine_score * (1 - genre_weight) + (genre_overlap**1) * genre_weight\n",
    "            \n",
    "            final_scores.append({\n",
    "                'candidate_idx': candidate_idx,\n",
    "                'decoded_id': decoded_id,\n",
    "                'cosine_similarity': cosine_score,\n",
    "                'genre_overlap': genre_overlap,\n",
    "                'final_score': final_score\n",
    "            })\n",
    "        \n",
    "        final_scores.sort(key=lambda x: x['final_score'], reverse=not negative)\n",
    "        \n",
    "    else:\n",
    "        sorted_dists = np.argsort(dists) if negative else np.argsort(dists)[::-1]\n",
    "        final_scores = []\n",
    "        for idx in sorted_dists[:n+50]:\n",
    "            decoded_id = anime2anime_decoder.get(idx)\n",
    "            if decoded_id is None or decoded_id == index:\n",
    "                continue\n",
    "            final_scores.append({\n",
    "                'candidate_idx': idx,\n",
    "                'decoded_id': decoded_id,\n",
    "                'final_score': dists[idx],\n",
    "                'cosine_similarity': dists[idx],\n",
    "                'genre_overlap': 0\n",
    "            })\n",
    "\n",
    "    if return_dist:\n",
    "        return dists, [item['candidate_idx'] for item in final_scores[:n]]\n",
    "    \n",
    "    rank = 1\n",
    "    similarity_arr = []\n",
    "    \n",
    "    for item in final_scores:\n",
    "        if rank > n:\n",
    "            break\n",
    "            \n",
    "        decoded_id = item['decoded_id']\n",
    "        syn = getAnimeSyn(decoded_id, syn_df)\n",
    "        anime_frame = df[df['anime_id'] == decoded_id]\n",
    "        \n",
    "        if anime_frame.empty:\n",
    "            continue\n",
    "            \n",
    "        anime_name = anime_frame['anime_name'].values[0]\n",
    "        genre = anime_frame['genres'].values[0]\n",
    "        \n",
    "        if not np.isnan(item['final_score']):\n",
    "            similarity_arr.append({\n",
    "                'rank': rank,\n",
    "                'anime_id': decoded_id,\n",
    "                'name': anime_name,\n",
    "                'similarity': item['cosine_similarity'],\n",
    "                'genre_overlap': item.get('genre_overlap', 0),\n",
    "                'final_score': item['final_score'],\n",
    "                'genre': genre,\n",
    "                'syn': syn\n",
    "            })\n",
    "            rank += 1\n",
    "\n",
    "    Frame = pd.DataFrame(similarity_arr)\n",
    "    return Frame.head(n)"
   ]
  },
  {
   "cell_type": "code",
   "execution_count": null,
   "id": "d61ab686",
   "metadata": {},
   "outputs": [],
   "source": [
    "df.head(10)['genres']"
   ]
  },
  {
   "cell_type": "code",
   "execution_count": null,
   "id": "442368ee",
   "metadata": {},
   "outputs": [],
   "source": [
    "getAnimeFrame(45, df)"
   ]
  },
  {
   "cell_type": "code",
   "execution_count": null,
   "id": "0e73ab12",
   "metadata": {},
   "outputs": [],
   "source": [
    "anime2anime_encoder"
   ]
  },
  {
   "cell_type": "code",
   "execution_count": 99,
   "id": "d08a1615",
   "metadata": {},
   "outputs": [],
   "source": [
    "def generate_decoders(encoder):\n",
    "    decoder  = {}\n",
    "    for key,value in encoder.items():\n",
    "        decoder[value] = key\n",
    "    return decoder"
   ]
  },
  {
   "cell_type": "code",
   "execution_count": 100,
   "id": "b2988082",
   "metadata": {},
   "outputs": [
    {
     "data": {
      "text/plain": [
       "300"
      ]
     },
     "execution_count": 100,
     "metadata": {},
     "output_type": "execute_result"
    }
   ],
   "source": [
    "anime2anime_encoder[17831]"
   ]
  },
  {
   "cell_type": "code",
   "execution_count": 101,
   "id": "21b7e1ff",
   "metadata": {},
   "outputs": [
    {
     "data": {
      "text/plain": [
       "17831"
      ]
     },
     "execution_count": 101,
     "metadata": {},
     "output_type": "execute_result"
    }
   ],
   "source": [
    "decoder = generate_decoders(anime2anime_encoder)\n",
    "decoder[300]"
   ]
  },
  {
   "cell_type": "code",
   "execution_count": null,
   "id": "83405482",
   "metadata": {},
   "outputs": [],
   "source": [
    "generate_decoders()"
   ]
  },
  {
   "cell_type": "code",
   "execution_count": null,
   "id": "54d098a2",
   "metadata": {},
   "outputs": [],
   "source": [
    "df"
   ]
  },
  {
   "cell_type": "code",
   "execution_count": null,
   "id": "492f882e",
   "metadata": {},
   "outputs": [],
   "source": [
    "result = find_similar_animes(\n",
    "    name = 'One Piece',\n",
    "    anime_weights = anime_weights,\n",
    "    anime2anime_encoder=anime2anime_encoder,\n",
    "    anime2anime_decoder=anime2anime_decoder,\n",
    "    df=df,\n",
    "    syn_df=syn_df,\n",
    "    consider_genres=True,\n",
    "    genre_weight=0.1,\n",
    "    n=10\n",
    ")"
   ]
  },
  {
   "cell_type": "code",
   "execution_count": null,
   "id": "9bf58066",
   "metadata": {},
   "outputs": [],
   "source": [
    "result.head(10)['name']"
   ]
  },
  {
   "cell_type": "markdown",
   "id": "fa0582bd",
   "metadata": {},
   "source": [
    "### USER BASED RECOMMENDAION"
   ]
  },
  {
   "cell_type": "code",
   "execution_count": null,
   "id": "188a74a6",
   "metadata": {},
   "outputs": [],
   "source": [
    "def find_similar_users(item_input, user_weights, user2user_encoder, user2user_decoder, n=10, return_dist=False, negative=False):\n",
    "    encoded_index = user2user_encoder.get(int(item_input))\n",
    "    dists = np.dot(user_weights, user_weights[encoded_index])\n",
    "    nan_mask = np.isnan(dists)\n",
    "    valid_indices = np.where(~nan_mask)[0]\n",
    "    nan_indices = np.where(nan_mask)[0]\n",
    "    valid_sorted = valid_indices[np.argsort(dists[valid_indices])[::-1] if not negative else np.argsort(dists[valid_indices])]\n",
    "    closests = np.concatenate([valid_sorted, nan_indices])\n",
    "    if return_dist:return dists, closests[:n+1]\n",
    "    \n",
    "    similarity_data = [\n",
    "        {'similar_user': user2user_decoder.get(close), 'similarity': dists[close]}\n",
    "        for close in closests[:n+1]\n",
    "        if close != encoded_index]\n",
    "    \n",
    "    return pd.DataFrame(similarity_data)"
   ]
  },
  {
   "cell_type": "code",
   "execution_count": null,
   "id": "ec434765",
   "metadata": {},
   "outputs": [],
   "source": [
    "find_similar_users(10409,\n",
    "                   user_weights,\n",
    "                   user2user_encoder,\n",
    "                   user2user_decoder\n",
    "                   )"
   ]
  },
  {
   "cell_type": "code",
   "execution_count": null,
   "id": "4890e676",
   "metadata": {},
   "outputs": [],
   "source": [
    "def showWordCloud(all_genres):\n",
    "    genres_cloud = WordCloud(width=700,height=400,background_color='white',colormap='gnuplot').generate_from_frequencies(all_genres)\n",
    "    plt.figure(figsize=(10,8))\n",
    "    plt.imshow(genres_cloud,interpolation=\"bilinear\")\n",
    "    plt.axis(\"off\")\n",
    "    plt.show()"
   ]
  },
  {
   "cell_type": "code",
   "execution_count": null,
   "id": "3b7c20f2",
   "metadata": {},
   "outputs": [],
   "source": [
    "from collections import defaultdict"
   ]
  },
  {
   "cell_type": "code",
   "execution_count": null,
   "id": "aa5fa7ea",
   "metadata": {},
   "outputs": [],
   "source": [
    "df.head(1)"
   ]
  },
  {
   "cell_type": "code",
   "execution_count": null,
   "id": "00dc892f",
   "metadata": {},
   "outputs": [],
   "source": [
    "def getFavGenre(frame , plot=False):\n",
    "    cleaned_frame = frame.dropna(inplace=False)\n",
    "    all_genres = defaultdict(int)\n",
    "\n",
    "    genres_list = []\n",
    "    for genres in cleaned_frame[\"genres\"]:\n",
    "        if isinstance(genres,str):\n",
    "            for genre in genres.split(','):\n",
    "                genres_list.append(genre)\n",
    "                all_genres[genre.strip()] += 1\n",
    "\n",
    "    if plot:\n",
    "        showWordCloud(all_genres)\n",
    "    \n",
    "    return genres_list"
   ]
  },
  {
   "cell_type": "code",
   "execution_count": null,
   "id": "c3f0ff3c",
   "metadata": {},
   "outputs": [],
   "source": [
    "getFavGenre(df,plot=True)"
   ]
  },
  {
   "cell_type": "code",
   "execution_count": null,
   "id": "406ab36c",
   "metadata": {},
   "outputs": [],
   "source": [
    "def get_user_preferences(user_id,rating_df,df,verbose = 0,plot=False):\n",
    "    animes_watched_by_user = rating_df[rating_df.user_id == user_id]\n",
    "    animes_watched_by_user = animes_watched_by_user.dropna(subset=['rating'])\n",
    "    user_rating_percentile = np.percentile(animes_watched_by_user.rating, 75)\n",
    "    animes_watched_by_user = animes_watched_by_user[animes_watched_by_user.rating >= user_rating_percentile]\n",
    "    top_animes_user = animes_watched_by_user.sort_values(by='rating', ascending=False).anime_id.values\n",
    "    anime_df_rows = df[df[\"anime_id\"].isin(top_animes_user)]\n",
    "    if plot: getFavGenre(anime_df_rows,plot)\n",
    "    return anime_df_rows[[\"anime_name\", \"genres\"]]\n"
   ]
  },
  {
   "cell_type": "code",
   "execution_count": null,
   "id": "e9619ea1",
   "metadata": {},
   "outputs": [],
   "source": []
  },
  {
   "cell_type": "code",
   "execution_count": null,
   "id": "9bc40434",
   "metadata": {},
   "outputs": [],
   "source": [
    "df"
   ]
  },
  {
   "cell_type": "code",
   "execution_count": null,
   "id": "696d1123",
   "metadata": {},
   "outputs": [],
   "source": [
    "rating_df"
   ]
  },
  {
   "cell_type": "code",
   "execution_count": null,
   "id": "46ec92b5",
   "metadata": {},
   "outputs": [],
   "source": [
    "get_user_preferences(10409,rating_df,df,plot=True)"
   ]
  },
  {
   "cell_type": "code",
   "execution_count": null,
   "id": "a560be90",
   "metadata": {},
   "outputs": [],
   "source": [
    "def get_user_recommendations(similar_users, user_pref, df, syn_df, rating_df, n=10):\n",
    "    anime_list = []\n",
    "    \n",
    "    for user_id in similar_users.similar_user.values:\n",
    "        pref_list = get_user_preferences(int(user_id), rating_df, df)\n",
    "        pref_list = pref_list[~pref_list.anime_name.isin(user_pref.anime_name.values)]\n",
    "        if not pref_list.empty:\n",
    "            anime_list.extend(pref_list.anime_name.values)\n",
    "    if not anime_list:\n",
    "        return pd.DataFrame()\n",
    "    \n",
    "    anime_counts = pd.Series(anime_list).value_counts().head(n)\n",
    "    recommendations = [\n",
    "        {\n",
    "            \"n\": count,\n",
    "            \"anime_name\": anime_name,\n",
    "            \"genres\": (frame := getAnimeFrame(anime_name, df)).genres.values[0]\n",
    "        }\n",
    "        for anime_name, count in anime_counts.items()\n",
    "        if isinstance(anime_name, str)\n",
    "    ]\n",
    "    return pd.DataFrame(recommendations)"
   ]
  },
  {
   "cell_type": "code",
   "execution_count": null,
   "id": "8400ccf6",
   "metadata": {},
   "outputs": [],
   "source": [
    "similar_users = find_similar_users(10409,user_weights,user2user_encoder,user2user_decoder)"
   ]
  },
  {
   "cell_type": "code",
   "execution_count": null,
   "id": "a34f4d35",
   "metadata": {},
   "outputs": [],
   "source": [
    "user_pref = get_user_preferences(10409 , rating_df, df , plot=False)"
   ]
  },
  {
   "cell_type": "code",
   "execution_count": null,
   "id": "cb4f5b6e",
   "metadata": {},
   "outputs": [],
   "source": [
    "rating_df"
   ]
  },
  {
   "cell_type": "code",
   "execution_count": null,
   "id": "ad48121b",
   "metadata": {},
   "outputs": [],
   "source": [
    "similar_users"
   ]
  },
  {
   "cell_type": "code",
   "execution_count": null,
   "id": "8a53950f",
   "metadata": {},
   "outputs": [],
   "source": [
    "get_user_recommendations(similar_users,user_pref,df, syn_df,rating_df,n=5)"
   ]
  },
  {
   "cell_type": "code",
   "execution_count": null,
   "id": "7e0bcf18",
   "metadata": {},
   "outputs": [],
   "source": [
    "def hybrid_recommendation(user_id, user_weight=0.5, content_weight=0.5):\n",
    "    similar_users = find_similar_users(user_id, user_weights, user2user_encoder, user2user_decoder)\n",
    "    user_pref = get_user_preferences(user_id, rating_df, df)\n",
    "    user_recommended_animes = get_user_recommendations(similar_users, user_pref, df, syn_df, rating_df)\n",
    "    user_list = user_recommended_animes[\"anime_name\"].tolist()\n",
    "    \n",
    "    content_list = [\n",
    "        similar_anime\n",
    "        for anime in user_list\n",
    "        for similar_animes in [find_similar_animes(anime, anime_weights, anime2anime_encoder, anime2anime_decoder, df, syn_df)]\n",
    "        if similar_animes is not None and not similar_animes.empty\n",
    "        for similar_anime in similar_animes[\"name\"].tolist()\n",
    "    ]\n",
    "    \n",
    "    from collections import Counter\n",
    "    combined_scores = Counter({anime: user_weight for anime in user_list})\n",
    "    combined_scores.update({anime: content_weight for anime in content_list})\n",
    "    return combined_scores.most_common(10)"
   ]
  },
  {
   "cell_type": "code",
   "execution_count": null,
   "id": "1b773fdf",
   "metadata": {},
   "outputs": [],
   "source": [
    "def create_temp_user_profile(anime_ratings_dict, df):\n",
    "    temp_profile = []\n",
    "    for anime_name, rating in anime_ratings_dict.items():\n",
    "        anime_frame = getAnimeFrame(anime_name, df)\n",
    "        if not anime_frame.empty:\n",
    "            anime_id = anime_frame.anime_id.values[0]\n",
    "            temp_profile.append({\n",
    "                'user_id': -1, \n",
    "                'anime_id': anime_id,\n",
    "                'anime_name': anime_name,\n",
    "                'rating': rating\n",
    "            })\n",
    "    \n",
    "    return pd.DataFrame(temp_profile)\n"
   ]
  },
  {
   "cell_type": "code",
   "execution_count": null,
   "id": "6f6aa172",
   "metadata": {},
   "outputs": [],
   "source": [
    "def build_user_inf_model(recomm_model, embedding_size=32):\n",
    "    \n",
    "    user_vec = Input(shape=(embedding_size,), name='user_vec')\n",
    "    anime = Input(shape=(1,), name='anime')\n",
    "    \n",
    "    anime_emb = recomm_model.get_layer('anime_embedding')(anime)\n",
    "    anime_vec = Flatten(name='flatten_anime')(anime_emb)\n",
    "    \n",
    "    x = Concatenate(name='concat')([user_vec, anime_vec])\n",
    "    \n",
    "    x = recomm_model.get_layer('dense')(x)\n",
    "    x = recomm_model.get_layer('batch_normalization')(x)\n",
    "    x = Activation('relu')(x)\n",
    "    x = Dropout(0.3)(x)\n",
    "    \n",
    "    x = recomm_model.get_layer('dense_1')(x)\n",
    "    x = recomm_model.get_layer('batch_normalization_1')(x)\n",
    "    x = Activation('relu')(x)\n",
    "    x = Dropout(0.3)(x)\n",
    "    \n",
    "    x = recomm_model.get_layer('dense_2')(x)\n",
    "    \n",
    "    inf_model = Model(inputs=[user_vec, anime], outputs=x)\n",
    "    return inf_model"
   ]
  },
  {
   "cell_type": "code",
   "execution_count": 132,
   "id": "2a0ddcff",
   "metadata": {},
   "outputs": [],
   "source": [
    "def get_temp_user_embedding(temp_user_profile, inf_model, anime2anime_encoder, embedding_size=32, min_rating=None, max_rating=None, epochs=50, lr=0.01):\n",
    "    import tensorflow as tf\n",
    "    import numpy as np\n",
    "    \n",
    "    anime_list = []\n",
    "    rating_list = []\n",
    "    for _, row in temp_user_profile.iterrows():\n",
    "        anime_id = row['anime_id']\n",
    "        encoded_anime = anime2anime_encoder.get(anime_id)\n",
    "        if encoded_anime is not None:\n",
    "            anime_list.append(encoded_anime)\n",
    "            normalized_rating = (row['rating'] - min_rating) / (max_rating - min_rating) if min_rating is not None and max_rating is not None else row['rating'] / 10.0\n",
    "            rating_list.append(normalized_rating)\n",
    "    \n",
    "    if not anime_list:\n",
    "        return np.zeros(embedding_size)\n",
    "    \n",
    "    anime_indices = tf.constant(anime_list, dtype=tf.int32)[:, tf.newaxis] \n",
    "    targets = tf.constant(rating_list, dtype=tf.float32)\n",
    "    \n",
    "    user_emb_var = tf.Variable(tf.random.normal([embedding_size], stddev=0.05))\n",
    "    optimizer = tf.optimizers.Adam(learning_rate=lr)\n",
    "    loss_fn = tf.keras.losses.BinaryCrossentropy()\n",
    "    \n",
    "    for epoch in range(epochs):\n",
    "        with tf.GradientTape() as tape:\n",
    "            user_vec_input = tf.tile(user_emb_var[tf.newaxis, :], [len(anime_list), 1])\n",
    "            preds = inf_model([user_vec_input, anime_indices])\n",
    "            preds = tf.squeeze(preds)\n",
    "            loss = loss_fn(targets, preds)\n",
    "        grads = tape.gradient(loss, [user_emb_var])\n",
    "        optimizer.apply_gradients(zip(grads, [user_emb_var]))\n",
    "    \n",
    "    temp_emb = user_emb_var.numpy()\n",
    "    norm = np.linalg.norm(temp_emb)\n",
    "    return temp_emb / norm if norm > 0 else temp_emb"
   ]
  },
  {
   "cell_type": "code",
   "execution_count": 133,
   "id": "4e5fd845",
   "metadata": {},
   "outputs": [],
   "source": [
    "def find_similar_users_for_temp(temp_embedding, user_weights, user2user_decoder, n=10):\n",
    "    import numpy as np\n",
    "    if np.all(temp_embedding == 0):\n",
    "        print(\"Warning: Temp user embedding is zero; returning empty user list.\")\n",
    "        return pd.DataFrame(columns=['similar_user', 'similarity'])\n",
    "    similarities = np.dot(user_weights, temp_embedding)\n",
    "    nan_mask = np.isnan(similarities)\n",
    "    valid_indices = np.where(~nan_mask)[0]\n",
    "    valid_sorted = valid_indices[np.argsort(similarities[valid_indices])[::-1]]\n",
    "    similar_users_data = []\n",
    "    for i, user_idx in enumerate(valid_sorted[:n]):\n",
    "        user_id = user2user_decoder.get(user_idx)\n",
    "        similarity = similarities[user_idx]\n",
    "        similar_users_data.append({\n",
    "            'similar_user': user_id,\n",
    "            'similarity': similarity\n",
    "        })\n",
    "    return pd.DataFrame(similar_users_data)"
   ]
  },
  {
   "cell_type": "code",
   "execution_count": 134,
   "id": "a82584e3",
   "metadata": {},
   "outputs": [],
   "source": [
    "def hybrid_recommendation_for_temp_user(temp_similar_users, temp_user_profile, user_weight=0.5, content_weight=0.5,n=10):\n",
    "    user_recommended_animes = get_user_recommendations(temp_similar_users, temp_user_profile, df, syn_df, rating_df)\n",
    "    user_list = user_recommended_animes[\"anime_name\"].tolist()\n",
    "    \n",
    "    content_list = [\n",
    "        similar_anime\n",
    "        for anime in user_list\n",
    "        for similar_animes in [find_similar_animes(anime, anime_weights, anime2anime_encoder, anime2anime_decoder, df, syn_df)]\n",
    "        if similar_animes is not None and not similar_animes.empty\n",
    "        for similar_anime in similar_animes[\"name\"].tolist()\n",
    "    ]\n",
    "    \n",
    "    from collections import Counter\n",
    "    combined_scores = Counter({anime: user_weight for anime in user_list})\n",
    "    combined_scores.update({anime: content_weight for anime in content_list})\n",
    "    return combined_scores.most_common(n)\n",
    "\n",
    "\n"
   ]
  },
  {
   "cell_type": "code",
   "execution_count": 135,
   "id": "acb99ba8",
   "metadata": {},
   "outputs": [],
   "source": [
    "def recommend_for_temp_user(anime_ratings_dict, n_recommendations=10, user_weight=0.5, content_weight=0.5):\n",
    "    temp_user_profile = create_temp_user_profile(anime_ratings_dict, df)\n",
    "    inf_model = build_user_inf_model(recomm_model)\n",
    "    temp_embedding = get_temp_user_embedding(temp_user_profile, inf_model,anime2anime_encoder, min_rating=min_rating, max_rating=max_rating)\n",
    "    similar_users = find_similar_users_for_temp(temp_embedding, user_weights, user2user_decoder, n=10)\n",
    "    hybrid_results = hybrid_recommendation_for_temp_user(similar_users, temp_user_profile, user_weight, content_weight)\n",
    "    \n",
    "    if not hybrid_results:\n",
    "        return \"Sorry, Couldn't find any anime matching with you!\"\n",
    "    \n",
    "    max_score = hybrid_results[0][1] if hybrid_results else 1\n",
    "    \n",
    "    final_recommendations = []\n",
    "    for anime_name, score in hybrid_results[:n_recommendations]:\n",
    "        anime_frame = getAnimeFrame(anime_name, df)\n",
    "        if not anime_frame.empty:\n",
    "            probability = min((score / max_score) * 0.8, 0.8)\n",
    "            final_recommendations.append({\n",
    "                'anime_name': anime_name,\n",
    "                'genres': anime_frame.genres.values[0],\n",
    "                'hybrid_score': score,\n",
    "                'probability': probability\n",
    "            })\n",
    "    return pd.DataFrame(final_recommendations)"
   ]
  },
  {
   "cell_type": "code",
   "execution_count": 136,
   "id": "1cb21822",
   "metadata": {},
   "outputs": [],
   "source": [
    "user_ratings = {\n",
    "    'Attack on Titan': 9,\n",
    "    'Death Note': 8,\n",
    "    'One Piece': 1,\n",
    "    'Naruto': 6,\n",
    "    'Monster' : 2\n",
    "}"
   ]
  },
  {
   "cell_type": "code",
   "execution_count": 137,
   "id": "241f1615",
   "metadata": {},
   "outputs": [],
   "source": [
    "recommendations = recommend_for_temp_user(user_ratings,user_weight=0.3,content_weight=0.7)"
   ]
  },
  {
   "cell_type": "code",
   "execution_count": 138,
   "id": "86e7cfd5",
   "metadata": {},
   "outputs": [
    {
     "data": {
      "text/html": [
       "<div>\n",
       "<style scoped>\n",
       "    .dataframe tbody tr th:only-of-type {\n",
       "        vertical-align: middle;\n",
       "    }\n",
       "\n",
       "    .dataframe tbody tr th {\n",
       "        vertical-align: top;\n",
       "    }\n",
       "\n",
       "    .dataframe thead th {\n",
       "        text-align: right;\n",
       "    }\n",
       "</style>\n",
       "<table border=\"1\" class=\"dataframe\">\n",
       "  <thead>\n",
       "    <tr style=\"text-align: right;\">\n",
       "      <th></th>\n",
       "      <th>anime_name</th>\n",
       "      <th>genres</th>\n",
       "      <th>hybrid_score</th>\n",
       "      <th>probability</th>\n",
       "    </tr>\n",
       "  </thead>\n",
       "  <tbody>\n",
       "    <tr>\n",
       "      <th>0</th>\n",
       "      <td>Bakuman.</td>\n",
       "      <td>Comedy, Drama, Romance, Shounen</td>\n",
       "      <td>1.0</td>\n",
       "      <td>0.80</td>\n",
       "    </tr>\n",
       "    <tr>\n",
       "      <th>1</th>\n",
       "      <td>Nisekoi:False Love</td>\n",
       "      <td>Harem, Comedy, Romance, School, Shounen</td>\n",
       "      <td>1.0</td>\n",
       "      <td>0.80</td>\n",
       "    </tr>\n",
       "    <tr>\n",
       "      <th>2</th>\n",
       "      <td>Noragami Aragoto</td>\n",
       "      <td>Action, Adventure, Comedy, Supernatural, Shounen</td>\n",
       "      <td>1.0</td>\n",
       "      <td>0.80</td>\n",
       "    </tr>\n",
       "    <tr>\n",
       "      <th>3</th>\n",
       "      <td>Aldnoah.Zero</td>\n",
       "      <td>Action, Military, Sci-Fi, Mecha</td>\n",
       "      <td>1.0</td>\n",
       "      <td>0.80</td>\n",
       "    </tr>\n",
       "    <tr>\n",
       "      <th>4</th>\n",
       "      <td>GATE</td>\n",
       "      <td>Action, Military, Adventure, Fantasy</td>\n",
       "      <td>1.0</td>\n",
       "      <td>0.80</td>\n",
       "    </tr>\n",
       "    <tr>\n",
       "      <th>5</th>\n",
       "      <td>Is It Wrong to Try to Pick Up Girls in a Dungeon?</td>\n",
       "      <td>Action, Adventure, Comedy, Romance, Fantasy</td>\n",
       "      <td>1.0</td>\n",
       "      <td>0.80</td>\n",
       "    </tr>\n",
       "    <tr>\n",
       "      <th>6</th>\n",
       "      <td>Nintama Rantarou Movie: Ninjutsu Gakuen Zenin Shutsudou! no Dan</td>\n",
       "      <td>Comedy, Shounen</td>\n",
       "      <td>0.7</td>\n",
       "      <td>0.56</td>\n",
       "    </tr>\n",
       "    <tr>\n",
       "      <th>7</th>\n",
       "      <td>Piercing I</td>\n",
       "      <td>Drama</td>\n",
       "      <td>0.7</td>\n",
       "      <td>0.56</td>\n",
       "    </tr>\n",
       "    <tr>\n",
       "      <th>8</th>\n",
       "      <td>Gakkyuu Ou Yamazaki Specials</td>\n",
       "      <td>Comedy</td>\n",
       "      <td>0.7</td>\n",
       "      <td>0.56</td>\n",
       "    </tr>\n",
       "    <tr>\n",
       "      <th>9</th>\n",
       "      <td>Haikyu!! 3rd Season</td>\n",
       "      <td>Comedy, Sports, Drama, School, Shounen</td>\n",
       "      <td>0.7</td>\n",
       "      <td>0.56</td>\n",
       "    </tr>\n",
       "  </tbody>\n",
       "</table>\n",
       "</div>"
      ],
      "text/plain": [
       "                                                        anime_name  \\\n",
       "0                                                         Bakuman.   \n",
       "1                                               Nisekoi:False Love   \n",
       "2                                                 Noragami Aragoto   \n",
       "3                                                     Aldnoah.Zero   \n",
       "4                                                             GATE   \n",
       "5                Is It Wrong to Try to Pick Up Girls in a Dungeon?   \n",
       "6  Nintama Rantarou Movie: Ninjutsu Gakuen Zenin Shutsudou! no Dan   \n",
       "7                                                       Piercing I   \n",
       "8                                     Gakkyuu Ou Yamazaki Specials   \n",
       "9                                              Haikyu!! 3rd Season   \n",
       "\n",
       "                                             genres  hybrid_score  probability  \n",
       "0                   Comedy, Drama, Romance, Shounen           1.0         0.80  \n",
       "1           Harem, Comedy, Romance, School, Shounen           1.0         0.80  \n",
       "2  Action, Adventure, Comedy, Supernatural, Shounen           1.0         0.80  \n",
       "3                   Action, Military, Sci-Fi, Mecha           1.0         0.80  \n",
       "4              Action, Military, Adventure, Fantasy           1.0         0.80  \n",
       "5       Action, Adventure, Comedy, Romance, Fantasy           1.0         0.80  \n",
       "6                                   Comedy, Shounen           0.7         0.56  \n",
       "7                                             Drama           0.7         0.56  \n",
       "8                                            Comedy           0.7         0.56  \n",
       "9            Comedy, Sports, Drama, School, Shounen           0.7         0.56  "
      ]
     },
     "execution_count": 138,
     "metadata": {},
     "output_type": "execute_result"
    }
   ],
   "source": [
    "recommendations"
   ]
  },
  {
   "cell_type": "code",
   "execution_count": 139,
   "id": "b83ee038",
   "metadata": {},
   "outputs": [
    {
     "data": {
      "text/html": [
       "<pre style=\"white-space:pre;overflow-x:auto;line-height:normal;font-family:Menlo,'DejaVu Sans Mono',consolas,'Courier New',monospace\"><span style=\"font-weight: bold\">Model: \"functional\"</span>\n",
       "</pre>\n"
      ],
      "text/plain": [
       "\u001b[1mModel: \"functional\"\u001b[0m\n"
      ]
     },
     "metadata": {},
     "output_type": "display_data"
    },
    {
     "data": {
      "text/html": [
       "<pre style=\"white-space:pre;overflow-x:auto;line-height:normal;font-family:Menlo,'DejaVu Sans Mono',consolas,'Courier New',monospace\">┏━━━━━━━━━━━━━━━━━━━━━┳━━━━━━━━━━━━━━━━━━━┳━━━━━━━━━━━━┳━━━━━━━━━━━━━━━━━━━┓\n",
       "┃<span style=\"font-weight: bold\"> Layer (type)        </span>┃<span style=\"font-weight: bold\"> Output Shape      </span>┃<span style=\"font-weight: bold\">    Param # </span>┃<span style=\"font-weight: bold\"> Connected to      </span>┃\n",
       "┡━━━━━━━━━━━━━━━━━━━━━╇━━━━━━━━━━━━━━━━━━━╇━━━━━━━━━━━━╇━━━━━━━━━━━━━━━━━━━┩\n",
       "│ user (<span style=\"color: #0087ff; text-decoration-color: #0087ff\">InputLayer</span>)   │ (<span style=\"color: #00d7ff; text-decoration-color: #00d7ff\">None</span>, <span style=\"color: #00af00; text-decoration-color: #00af00\">1</span>)         │          <span style=\"color: #00af00; text-decoration-color: #00af00\">0</span> │ -                 │\n",
       "├─────────────────────┼───────────────────┼────────────┼───────────────────┤\n",
       "│ anime (<span style=\"color: #0087ff; text-decoration-color: #0087ff\">InputLayer</span>)  │ (<span style=\"color: #00d7ff; text-decoration-color: #00d7ff\">None</span>, <span style=\"color: #00af00; text-decoration-color: #00af00\">1</span>)         │          <span style=\"color: #00af00; text-decoration-color: #00af00\">0</span> │ -                 │\n",
       "├─────────────────────┼───────────────────┼────────────┼───────────────────┤\n",
       "│ user_embedding      │ (<span style=\"color: #00d7ff; text-decoration-color: #00d7ff\">None</span>, <span style=\"color: #00af00; text-decoration-color: #00af00\">1</span>, <span style=\"color: #00af00; text-decoration-color: #00af00\">32</span>)     │    <span style=\"color: #00af00; text-decoration-color: #00af00\">561,536</span> │ user[<span style=\"color: #00af00; text-decoration-color: #00af00\">0</span>][<span style=\"color: #00af00; text-decoration-color: #00af00\">0</span>]        │\n",
       "│ (<span style=\"color: #0087ff; text-decoration-color: #0087ff\">Embedding</span>)         │                   │            │                   │\n",
       "├─────────────────────┼───────────────────┼────────────┼───────────────────┤\n",
       "│ anime_embedding     │ (<span style=\"color: #00d7ff; text-decoration-color: #00d7ff\">None</span>, <span style=\"color: #00af00; text-decoration-color: #00af00\">1</span>, <span style=\"color: #00af00; text-decoration-color: #00af00\">32</span>)     │    <span style=\"color: #00af00; text-decoration-color: #00af00\">548,480</span> │ anime[<span style=\"color: #00af00; text-decoration-color: #00af00\">0</span>][<span style=\"color: #00af00; text-decoration-color: #00af00\">0</span>]       │\n",
       "│ (<span style=\"color: #0087ff; text-decoration-color: #0087ff\">Embedding</span>)         │                   │            │                   │\n",
       "├─────────────────────┼───────────────────┼────────────┼───────────────────┤\n",
       "│ flatten (<span style=\"color: #0087ff; text-decoration-color: #0087ff\">Flatten</span>)   │ (<span style=\"color: #00d7ff; text-decoration-color: #00d7ff\">None</span>, <span style=\"color: #00af00; text-decoration-color: #00af00\">32</span>)        │          <span style=\"color: #00af00; text-decoration-color: #00af00\">0</span> │ user_embedding[<span style=\"color: #00af00; text-decoration-color: #00af00\">0</span>… │\n",
       "├─────────────────────┼───────────────────┼────────────┼───────────────────┤\n",
       "│ flatten_1 (<span style=\"color: #0087ff; text-decoration-color: #0087ff\">Flatten</span>) │ (<span style=\"color: #00d7ff; text-decoration-color: #00d7ff\">None</span>, <span style=\"color: #00af00; text-decoration-color: #00af00\">32</span>)        │          <span style=\"color: #00af00; text-decoration-color: #00af00\">0</span> │ anime_embedding[<span style=\"color: #00af00; text-decoration-color: #00af00\">…</span> │\n",
       "├─────────────────────┼───────────────────┼────────────┼───────────────────┤\n",
       "│ concatenate         │ (<span style=\"color: #00d7ff; text-decoration-color: #00d7ff\">None</span>, <span style=\"color: #00af00; text-decoration-color: #00af00\">64</span>)        │          <span style=\"color: #00af00; text-decoration-color: #00af00\">0</span> │ flatten[<span style=\"color: #00af00; text-decoration-color: #00af00\">0</span>][<span style=\"color: #00af00; text-decoration-color: #00af00\">0</span>],    │\n",
       "│ (<span style=\"color: #0087ff; text-decoration-color: #0087ff\">Concatenate</span>)       │                   │            │ flatten_1[<span style=\"color: #00af00; text-decoration-color: #00af00\">0</span>][<span style=\"color: #00af00; text-decoration-color: #00af00\">0</span>]   │\n",
       "├─────────────────────┼───────────────────┼────────────┼───────────────────┤\n",
       "│ dense (<span style=\"color: #0087ff; text-decoration-color: #0087ff\">Dense</span>)       │ (<span style=\"color: #00d7ff; text-decoration-color: #00d7ff\">None</span>, <span style=\"color: #00af00; text-decoration-color: #00af00\">128</span>)       │      <span style=\"color: #00af00; text-decoration-color: #00af00\">8,320</span> │ concatenate[<span style=\"color: #00af00; text-decoration-color: #00af00\">0</span>][<span style=\"color: #00af00; text-decoration-color: #00af00\">0</span>] │\n",
       "├─────────────────────┼───────────────────┼────────────┼───────────────────┤\n",
       "│ batch_normalization │ (<span style=\"color: #00d7ff; text-decoration-color: #00d7ff\">None</span>, <span style=\"color: #00af00; text-decoration-color: #00af00\">128</span>)       │        <span style=\"color: #00af00; text-decoration-color: #00af00\">512</span> │ dense[<span style=\"color: #00af00; text-decoration-color: #00af00\">0</span>][<span style=\"color: #00af00; text-decoration-color: #00af00\">0</span>]       │\n",
       "│ (<span style=\"color: #0087ff; text-decoration-color: #0087ff\">BatchNormalizatio…</span> │                   │            │                   │\n",
       "├─────────────────────┼───────────────────┼────────────┼───────────────────┤\n",
       "│ activation          │ (<span style=\"color: #00d7ff; text-decoration-color: #00d7ff\">None</span>, <span style=\"color: #00af00; text-decoration-color: #00af00\">128</span>)       │          <span style=\"color: #00af00; text-decoration-color: #00af00\">0</span> │ batch_normalizat… │\n",
       "│ (<span style=\"color: #0087ff; text-decoration-color: #0087ff\">Activation</span>)        │                   │            │                   │\n",
       "├─────────────────────┼───────────────────┼────────────┼───────────────────┤\n",
       "│ dropout (<span style=\"color: #0087ff; text-decoration-color: #0087ff\">Dropout</span>)   │ (<span style=\"color: #00d7ff; text-decoration-color: #00d7ff\">None</span>, <span style=\"color: #00af00; text-decoration-color: #00af00\">128</span>)       │          <span style=\"color: #00af00; text-decoration-color: #00af00\">0</span> │ activation[<span style=\"color: #00af00; text-decoration-color: #00af00\">0</span>][<span style=\"color: #00af00; text-decoration-color: #00af00\">0</span>]  │\n",
       "├─────────────────────┼───────────────────┼────────────┼───────────────────┤\n",
       "│ dense_1 (<span style=\"color: #0087ff; text-decoration-color: #0087ff\">Dense</span>)     │ (<span style=\"color: #00d7ff; text-decoration-color: #00d7ff\">None</span>, <span style=\"color: #00af00; text-decoration-color: #00af00\">64</span>)        │      <span style=\"color: #00af00; text-decoration-color: #00af00\">8,256</span> │ dropout[<span style=\"color: #00af00; text-decoration-color: #00af00\">0</span>][<span style=\"color: #00af00; text-decoration-color: #00af00\">0</span>]     │\n",
       "├─────────────────────┼───────────────────┼────────────┼───────────────────┤\n",
       "│ batch_normalizatio… │ (<span style=\"color: #00d7ff; text-decoration-color: #00d7ff\">None</span>, <span style=\"color: #00af00; text-decoration-color: #00af00\">64</span>)        │        <span style=\"color: #00af00; text-decoration-color: #00af00\">256</span> │ dense_1[<span style=\"color: #00af00; text-decoration-color: #00af00\">0</span>][<span style=\"color: #00af00; text-decoration-color: #00af00\">0</span>]     │\n",
       "│ (<span style=\"color: #0087ff; text-decoration-color: #0087ff\">BatchNormalizatio…</span> │                   │            │                   │\n",
       "├─────────────────────┼───────────────────┼────────────┼───────────────────┤\n",
       "│ activation_1        │ (<span style=\"color: #00d7ff; text-decoration-color: #00d7ff\">None</span>, <span style=\"color: #00af00; text-decoration-color: #00af00\">64</span>)        │          <span style=\"color: #00af00; text-decoration-color: #00af00\">0</span> │ batch_normalizat… │\n",
       "│ (<span style=\"color: #0087ff; text-decoration-color: #0087ff\">Activation</span>)        │                   │            │                   │\n",
       "├─────────────────────┼───────────────────┼────────────┼───────────────────┤\n",
       "│ dropout_1 (<span style=\"color: #0087ff; text-decoration-color: #0087ff\">Dropout</span>) │ (<span style=\"color: #00d7ff; text-decoration-color: #00d7ff\">None</span>, <span style=\"color: #00af00; text-decoration-color: #00af00\">64</span>)        │          <span style=\"color: #00af00; text-decoration-color: #00af00\">0</span> │ activation_1[<span style=\"color: #00af00; text-decoration-color: #00af00\">0</span>][<span style=\"color: #00af00; text-decoration-color: #00af00\">…</span> │\n",
       "├─────────────────────┼───────────────────┼────────────┼───────────────────┤\n",
       "│ dense_2 (<span style=\"color: #0087ff; text-decoration-color: #0087ff\">Dense</span>)     │ (<span style=\"color: #00d7ff; text-decoration-color: #00d7ff\">None</span>, <span style=\"color: #00af00; text-decoration-color: #00af00\">1</span>)         │         <span style=\"color: #00af00; text-decoration-color: #00af00\">65</span> │ dropout_1[<span style=\"color: #00af00; text-decoration-color: #00af00\">0</span>][<span style=\"color: #00af00; text-decoration-color: #00af00\">0</span>]   │\n",
       "└─────────────────────┴───────────────────┴────────────┴───────────────────┘\n",
       "</pre>\n"
      ],
      "text/plain": [
       "┏━━━━━━━━━━━━━━━━━━━━━┳━━━━━━━━━━━━━━━━━━━┳━━━━━━━━━━━━┳━━━━━━━━━━━━━━━━━━━┓\n",
       "┃\u001b[1m \u001b[0m\u001b[1mLayer (type)       \u001b[0m\u001b[1m \u001b[0m┃\u001b[1m \u001b[0m\u001b[1mOutput Shape     \u001b[0m\u001b[1m \u001b[0m┃\u001b[1m \u001b[0m\u001b[1m   Param #\u001b[0m\u001b[1m \u001b[0m┃\u001b[1m \u001b[0m\u001b[1mConnected to     \u001b[0m\u001b[1m \u001b[0m┃\n",
       "┡━━━━━━━━━━━━━━━━━━━━━╇━━━━━━━━━━━━━━━━━━━╇━━━━━━━━━━━━╇━━━━━━━━━━━━━━━━━━━┩\n",
       "│ user (\u001b[38;5;33mInputLayer\u001b[0m)   │ (\u001b[38;5;45mNone\u001b[0m, \u001b[38;5;34m1\u001b[0m)         │          \u001b[38;5;34m0\u001b[0m │ -                 │\n",
       "├─────────────────────┼───────────────────┼────────────┼───────────────────┤\n",
       "│ anime (\u001b[38;5;33mInputLayer\u001b[0m)  │ (\u001b[38;5;45mNone\u001b[0m, \u001b[38;5;34m1\u001b[0m)         │          \u001b[38;5;34m0\u001b[0m │ -                 │\n",
       "├─────────────────────┼───────────────────┼────────────┼───────────────────┤\n",
       "│ user_embedding      │ (\u001b[38;5;45mNone\u001b[0m, \u001b[38;5;34m1\u001b[0m, \u001b[38;5;34m32\u001b[0m)     │    \u001b[38;5;34m561,536\u001b[0m │ user[\u001b[38;5;34m0\u001b[0m][\u001b[38;5;34m0\u001b[0m]        │\n",
       "│ (\u001b[38;5;33mEmbedding\u001b[0m)         │                   │            │                   │\n",
       "├─────────────────────┼───────────────────┼────────────┼───────────────────┤\n",
       "│ anime_embedding     │ (\u001b[38;5;45mNone\u001b[0m, \u001b[38;5;34m1\u001b[0m, \u001b[38;5;34m32\u001b[0m)     │    \u001b[38;5;34m548,480\u001b[0m │ anime[\u001b[38;5;34m0\u001b[0m][\u001b[38;5;34m0\u001b[0m]       │\n",
       "│ (\u001b[38;5;33mEmbedding\u001b[0m)         │                   │            │                   │\n",
       "├─────────────────────┼───────────────────┼────────────┼───────────────────┤\n",
       "│ flatten (\u001b[38;5;33mFlatten\u001b[0m)   │ (\u001b[38;5;45mNone\u001b[0m, \u001b[38;5;34m32\u001b[0m)        │          \u001b[38;5;34m0\u001b[0m │ user_embedding[\u001b[38;5;34m0\u001b[0m… │\n",
       "├─────────────────────┼───────────────────┼────────────┼───────────────────┤\n",
       "│ flatten_1 (\u001b[38;5;33mFlatten\u001b[0m) │ (\u001b[38;5;45mNone\u001b[0m, \u001b[38;5;34m32\u001b[0m)        │          \u001b[38;5;34m0\u001b[0m │ anime_embedding[\u001b[38;5;34m…\u001b[0m │\n",
       "├─────────────────────┼───────────────────┼────────────┼───────────────────┤\n",
       "│ concatenate         │ (\u001b[38;5;45mNone\u001b[0m, \u001b[38;5;34m64\u001b[0m)        │          \u001b[38;5;34m0\u001b[0m │ flatten[\u001b[38;5;34m0\u001b[0m][\u001b[38;5;34m0\u001b[0m],    │\n",
       "│ (\u001b[38;5;33mConcatenate\u001b[0m)       │                   │            │ flatten_1[\u001b[38;5;34m0\u001b[0m][\u001b[38;5;34m0\u001b[0m]   │\n",
       "├─────────────────────┼───────────────────┼────────────┼───────────────────┤\n",
       "│ dense (\u001b[38;5;33mDense\u001b[0m)       │ (\u001b[38;5;45mNone\u001b[0m, \u001b[38;5;34m128\u001b[0m)       │      \u001b[38;5;34m8,320\u001b[0m │ concatenate[\u001b[38;5;34m0\u001b[0m][\u001b[38;5;34m0\u001b[0m] │\n",
       "├─────────────────────┼───────────────────┼────────────┼───────────────────┤\n",
       "│ batch_normalization │ (\u001b[38;5;45mNone\u001b[0m, \u001b[38;5;34m128\u001b[0m)       │        \u001b[38;5;34m512\u001b[0m │ dense[\u001b[38;5;34m0\u001b[0m][\u001b[38;5;34m0\u001b[0m]       │\n",
       "│ (\u001b[38;5;33mBatchNormalizatio…\u001b[0m │                   │            │                   │\n",
       "├─────────────────────┼───────────────────┼────────────┼───────────────────┤\n",
       "│ activation          │ (\u001b[38;5;45mNone\u001b[0m, \u001b[38;5;34m128\u001b[0m)       │          \u001b[38;5;34m0\u001b[0m │ batch_normalizat… │\n",
       "│ (\u001b[38;5;33mActivation\u001b[0m)        │                   │            │                   │\n",
       "├─────────────────────┼───────────────────┼────────────┼───────────────────┤\n",
       "│ dropout (\u001b[38;5;33mDropout\u001b[0m)   │ (\u001b[38;5;45mNone\u001b[0m, \u001b[38;5;34m128\u001b[0m)       │          \u001b[38;5;34m0\u001b[0m │ activation[\u001b[38;5;34m0\u001b[0m][\u001b[38;5;34m0\u001b[0m]  │\n",
       "├─────────────────────┼───────────────────┼────────────┼───────────────────┤\n",
       "│ dense_1 (\u001b[38;5;33mDense\u001b[0m)     │ (\u001b[38;5;45mNone\u001b[0m, \u001b[38;5;34m64\u001b[0m)        │      \u001b[38;5;34m8,256\u001b[0m │ dropout[\u001b[38;5;34m0\u001b[0m][\u001b[38;5;34m0\u001b[0m]     │\n",
       "├─────────────────────┼───────────────────┼────────────┼───────────────────┤\n",
       "│ batch_normalizatio… │ (\u001b[38;5;45mNone\u001b[0m, \u001b[38;5;34m64\u001b[0m)        │        \u001b[38;5;34m256\u001b[0m │ dense_1[\u001b[38;5;34m0\u001b[0m][\u001b[38;5;34m0\u001b[0m]     │\n",
       "│ (\u001b[38;5;33mBatchNormalizatio…\u001b[0m │                   │            │                   │\n",
       "├─────────────────────┼───────────────────┼────────────┼───────────────────┤\n",
       "│ activation_1        │ (\u001b[38;5;45mNone\u001b[0m, \u001b[38;5;34m64\u001b[0m)        │          \u001b[38;5;34m0\u001b[0m │ batch_normalizat… │\n",
       "│ (\u001b[38;5;33mActivation\u001b[0m)        │                   │            │                   │\n",
       "├─────────────────────┼───────────────────┼────────────┼───────────────────┤\n",
       "│ dropout_1 (\u001b[38;5;33mDropout\u001b[0m) │ (\u001b[38;5;45mNone\u001b[0m, \u001b[38;5;34m64\u001b[0m)        │          \u001b[38;5;34m0\u001b[0m │ activation_1[\u001b[38;5;34m0\u001b[0m][\u001b[38;5;34m…\u001b[0m │\n",
       "├─────────────────────┼───────────────────┼────────────┼───────────────────┤\n",
       "│ dense_2 (\u001b[38;5;33mDense\u001b[0m)     │ (\u001b[38;5;45mNone\u001b[0m, \u001b[38;5;34m1\u001b[0m)         │         \u001b[38;5;34m65\u001b[0m │ dropout_1[\u001b[38;5;34m0\u001b[0m][\u001b[38;5;34m0\u001b[0m]   │\n",
       "└─────────────────────┴───────────────────┴────────────┴───────────────────┘\n"
      ]
     },
     "metadata": {},
     "output_type": "display_data"
    },
    {
     "data": {
      "text/html": [
       "<pre style=\"white-space:pre;overflow-x:auto;line-height:normal;font-family:Menlo,'DejaVu Sans Mono',consolas,'Courier New',monospace\"><span style=\"font-weight: bold\"> Total params: </span><span style=\"color: #00af00; text-decoration-color: #00af00\">1,127,425</span> (4.30 MB)\n",
       "</pre>\n"
      ],
      "text/plain": [
       "\u001b[1m Total params: \u001b[0m\u001b[38;5;34m1,127,425\u001b[0m (4.30 MB)\n"
      ]
     },
     "metadata": {},
     "output_type": "display_data"
    },
    {
     "data": {
      "text/html": [
       "<pre style=\"white-space:pre;overflow-x:auto;line-height:normal;font-family:Menlo,'DejaVu Sans Mono',consolas,'Courier New',monospace\"><span style=\"font-weight: bold\"> Trainable params: </span><span style=\"color: #00af00; text-decoration-color: #00af00\">1,127,041</span> (4.30 MB)\n",
       "</pre>\n"
      ],
      "text/plain": [
       "\u001b[1m Trainable params: \u001b[0m\u001b[38;5;34m1,127,041\u001b[0m (4.30 MB)\n"
      ]
     },
     "metadata": {},
     "output_type": "display_data"
    },
    {
     "data": {
      "text/html": [
       "<pre style=\"white-space:pre;overflow-x:auto;line-height:normal;font-family:Menlo,'DejaVu Sans Mono',consolas,'Courier New',monospace\"><span style=\"font-weight: bold\"> Non-trainable params: </span><span style=\"color: #00af00; text-decoration-color: #00af00\">384</span> (1.50 KB)\n",
       "</pre>\n"
      ],
      "text/plain": [
       "\u001b[1m Non-trainable params: \u001b[0m\u001b[38;5;34m384\u001b[0m (1.50 KB)\n"
      ]
     },
     "metadata": {},
     "output_type": "display_data"
    }
   ],
   "source": [
    "recomm_model.summary()"
   ]
  }
 ],
 "metadata": {
  "kernelspec": {
   "display_name": ".venv (3.13.7)",
   "language": "python",
   "name": "python3"
  },
  "language_info": {
   "codemirror_mode": {
    "name": "ipython",
    "version": 3
   },
   "file_extension": ".py",
   "mimetype": "text/x-python",
   "name": "python",
   "nbconvert_exporter": "python",
   "pygments_lexer": "ipython3",
   "version": "3.13.7"
  }
 },
 "nbformat": 4,
 "nbformat_minor": 5
}
